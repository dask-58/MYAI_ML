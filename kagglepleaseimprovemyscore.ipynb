{
 "cells": [
  {
   "cell_type": "code",
   "execution_count": 1,
   "id": "419a2d03",
   "metadata": {
    "_cell_guid": "b1076dfc-b9ad-4769-8c92-a6c4dae69d19",
    "_uuid": "8f2839f25d086af736a60e9eeb907d3b93b6e0e5",
    "execution": {
     "iopub.execute_input": "2023-12-11T12:19:24.590344Z",
     "iopub.status.busy": "2023-12-11T12:19:24.589831Z",
     "iopub.status.idle": "2023-12-11T12:19:25.101598Z",
     "shell.execute_reply": "2023-12-11T12:19:25.100361Z"
    },
    "papermill": {
     "duration": 0.523487,
     "end_time": "2023-12-11T12:19:25.104358",
     "exception": false,
     "start_time": "2023-12-11T12:19:24.580871",
     "status": "completed"
    },
    "tags": []
   },
   "outputs": [
    {
     "name": "stdout",
     "output_type": "stream",
     "text": [
      "/kaggle/input/aimprove-contest-week-2/Test-set-AImprove-2- detailed.csv\n",
      "/kaggle/input/aimprove-contest-week-2/Test-set-AImprove-2..csv\n",
      "/kaggle/input/aimprove-contest-week-2/Train-set-AImprove2.csv\n"
     ]
    }
   ],
   "source": [
    "# This Python 3 environment comes with many helpful analytics libraries installed\n",
    "# It is defined by the kaggle/python Docker image: https://github.com/kaggle/docker-python\n",
    "# For example, here's several helpful packages to load\n",
    "\n",
    "import numpy as np # linear algebra\n",
    "import pandas as pd # data processing, CSV file I/O (e.g. pd.read_csv)\n",
    "\n",
    "# Input data files are available in the read-only \"../input/\" directory\n",
    "# For example, running this (by clicking run or pressing Shift+Enter) will list all files under the input directory\n",
    "\n",
    "import os\n",
    "for dirname, _, filenames in os.walk('/kaggle/input'):\n",
    "    for filename in filenames:\n",
    "        print(os.path.join(dirname, filename))\n",
    "\n",
    "# You can write up to 20GB to the current directory (/kaggle/working/) that gets preserved as output when you create a version using \"Save & Run All\" \n",
    "# You can also write temporary files to /kaggle/temp/, but they won't be saved outside of the current session"
   ]
  },
  {
   "cell_type": "code",
   "execution_count": 2,
   "id": "470f44a0",
   "metadata": {
    "execution": {
     "iopub.execute_input": "2023-12-11T12:19:25.121934Z",
     "iopub.status.busy": "2023-12-11T12:19:25.119733Z",
     "iopub.status.idle": "2023-12-11T12:19:25.162047Z",
     "shell.execute_reply": "2023-12-11T12:19:25.160654Z"
    },
    "papermill": {
     "duration": 0.054613,
     "end_time": "2023-12-11T12:19:25.165928",
     "exception": false,
     "start_time": "2023-12-11T12:19:25.111315",
     "status": "completed"
    },
    "tags": []
   },
   "outputs": [],
   "source": [
    "df = pd.read_csv('/kaggle/input/aimprove-contest-week-2/Train-set-AImprove2.csv')\n",
    "test = pd.read_csv('/kaggle/input/aimprove-contest-week-2/Test-set-AImprove-2- detailed.csv')"
   ]
  },
  {
   "cell_type": "code",
   "execution_count": 3,
   "id": "9759bb58",
   "metadata": {
    "execution": {
     "iopub.execute_input": "2023-12-11T12:19:25.182815Z",
     "iopub.status.busy": "2023-12-11T12:19:25.182161Z",
     "iopub.status.idle": "2023-12-11T12:19:25.218790Z",
     "shell.execute_reply": "2023-12-11T12:19:25.217909Z"
    },
    "papermill": {
     "duration": 0.048376,
     "end_time": "2023-12-11T12:19:25.221757",
     "exception": false,
     "start_time": "2023-12-11T12:19:25.173381",
     "status": "completed"
    },
    "tags": []
   },
   "outputs": [],
   "source": [
    "ch = 'T'\n",
    "df = df[~df.apply(lambda row : any(str(ch) in str(cell) for cell in row), axis = 1)]\n",
    "df.reset_index(drop = True, inplace = True)"
   ]
  },
  {
   "cell_type": "code",
   "execution_count": 4,
   "id": "e2d77d15",
   "metadata": {
    "execution": {
     "iopub.execute_input": "2023-12-11T12:19:25.238204Z",
     "iopub.status.busy": "2023-12-11T12:19:25.237563Z",
     "iopub.status.idle": "2023-12-11T12:19:25.257686Z",
     "shell.execute_reply": "2023-12-11T12:19:25.256285Z"
    },
    "papermill": {
     "duration": 0.031803,
     "end_time": "2023-12-11T12:19:25.260881",
     "exception": false,
     "start_time": "2023-12-11T12:19:25.229078",
     "status": "completed"
    },
    "tags": []
   },
   "outputs": [],
   "source": [
    "char = '-'\n",
    "rechar = '0'\n",
    "df = df.applymap(lambda x : str(x).replace(char, rechar))"
   ]
  },
  {
   "cell_type": "code",
   "execution_count": 5,
   "id": "874e869d",
   "metadata": {
    "execution": {
     "iopub.execute_input": "2023-12-11T12:19:25.276488Z",
     "iopub.status.busy": "2023-12-11T12:19:25.276100Z",
     "iopub.status.idle": "2023-12-11T12:19:25.287055Z",
     "shell.execute_reply": "2023-12-11T12:19:25.285710Z"
    },
    "papermill": {
     "duration": 0.021821,
     "end_time": "2023-12-11T12:19:25.289527",
     "exception": false,
     "start_time": "2023-12-11T12:19:25.267706",
     "status": "completed"
    },
    "tags": []
   },
   "outputs": [],
   "source": [
    "target = df.PrecipitationSumInches"
   ]
  },
  {
   "cell_type": "code",
   "execution_count": 6,
   "id": "daf87941",
   "metadata": {
    "execution": {
     "iopub.execute_input": "2023-12-11T12:19:25.305438Z",
     "iopub.status.busy": "2023-12-11T12:19:25.304771Z",
     "iopub.status.idle": "2023-12-11T12:19:25.337389Z",
     "shell.execute_reply": "2023-12-11T12:19:25.336166Z"
    },
    "papermill": {
     "duration": 0.044606,
     "end_time": "2023-12-11T12:19:25.340894",
     "exception": false,
     "start_time": "2023-12-11T12:19:25.296288",
     "status": "completed"
    },
    "tags": []
   },
   "outputs": [],
   "source": [
    "df['DewPointHighF'] = pd.to_numeric(df['DewPointHighF'])\n",
    "df['DewPointAvgF'] = pd.to_numeric(df['DewPointAvgF'])\n",
    "df['DewPointLowF'] = pd.to_numeric(df['DewPointLowF'])\n",
    "df['HumidityHighPercent'] = pd.to_numeric(df['HumidityHighPercent'])\n",
    "df['HumidityAvgPercent'] = pd.to_numeric(df['HumidityAvgPercent'])\n",
    "df['HumidityLowPercent'] = pd.to_numeric(df['HumidityLowPercent'])\n",
    "df['SeaLevelPressureHighInches'] = pd.to_numeric(df['SeaLevelPressureHighInches'])\n",
    "df['SeaLevelPressureAvgInches'] = pd.to_numeric(df['SeaLevelPressureAvgInches'])\n",
    "df['SeaLevelPressureLowInches'] = pd.to_numeric(df['SeaLevelPressureLowInches'])\n",
    "df['VisibilityHighMiles'] = pd.to_numeric(df['VisibilityHighMiles'])\n",
    "df['VisibilityAvgMiles'] = pd.to_numeric(df['VisibilityAvgMiles'])\n",
    "df['VisibilityLowMiles'] = pd.to_numeric(df['VisibilityLowMiles'])\n",
    "df['WindHighMPH'] = pd.to_numeric(df['WindHighMPH'])\n",
    "df['WindAvgMPH'] = pd.to_numeric(df['WindAvgMPH'])\n",
    "df['WindGustMPH'] = pd.to_numeric(df['WindGustMPH'])"
   ]
  },
  {
   "cell_type": "code",
   "execution_count": 7,
   "id": "f06a82c6",
   "metadata": {
    "execution": {
     "iopub.execute_input": "2023-12-11T12:19:25.356298Z",
     "iopub.status.busy": "2023-12-11T12:19:25.355895Z",
     "iopub.status.idle": "2023-12-11T12:19:25.367551Z",
     "shell.execute_reply": "2023-12-11T12:19:25.366370Z"
    },
    "papermill": {
     "duration": 0.02281,
     "end_time": "2023-12-11T12:19:25.370510",
     "exception": false,
     "start_time": "2023-12-11T12:19:25.347700",
     "status": "completed"
    },
    "tags": []
   },
   "outputs": [],
   "source": [
    "df.drop(columns = ['PrecipitationSumInches', 'Date', 'Events'], axis = 1, inplace = True)"
   ]
  },
  {
   "cell_type": "code",
   "execution_count": 8,
   "id": "b1b2f6a5",
   "metadata": {
    "execution": {
     "iopub.execute_input": "2023-12-11T12:19:25.385990Z",
     "iopub.status.busy": "2023-12-11T12:19:25.385544Z",
     "iopub.status.idle": "2023-12-11T12:19:27.162745Z",
     "shell.execute_reply": "2023-12-11T12:19:27.161461Z"
    },
    "papermill": {
     "duration": 1.788494,
     "end_time": "2023-12-11T12:19:27.165857",
     "exception": false,
     "start_time": "2023-12-11T12:19:25.377363",
     "status": "completed"
    },
    "tags": []
   },
   "outputs": [],
   "source": [
    "from sklearn.ensemble import RandomForestRegressor\n",
    "from sklearn.model_selection import train_test_split\n",
    "from sklearn.metrics import mean_squared_error"
   ]
  },
  {
   "cell_type": "code",
   "execution_count": 9,
   "id": "b3af1d29",
   "metadata": {
    "execution": {
     "iopub.execute_input": "2023-12-11T12:19:27.181676Z",
     "iopub.status.busy": "2023-12-11T12:19:27.181218Z",
     "iopub.status.idle": "2023-12-11T12:19:27.192666Z",
     "shell.execute_reply": "2023-12-11T12:19:27.191190Z"
    },
    "papermill": {
     "duration": 0.022929,
     "end_time": "2023-12-11T12:19:27.195620",
     "exception": false,
     "start_time": "2023-12-11T12:19:27.172691",
     "status": "completed"
    },
    "tags": []
   },
   "outputs": [],
   "source": [
    "X_train_full, X_valid_full, y_train, y_valid = train_test_split(df, target, train_size = 0.8, test_size = 0.2, random_state = 22)"
   ]
  },
  {
   "cell_type": "code",
   "execution_count": 10,
   "id": "1a7b773f",
   "metadata": {
    "execution": {
     "iopub.execute_input": "2023-12-11T12:19:27.211616Z",
     "iopub.status.busy": "2023-12-11T12:19:27.211142Z",
     "iopub.status.idle": "2023-12-11T12:19:27.464108Z",
     "shell.execute_reply": "2023-12-11T12:19:27.462949Z"
    },
    "papermill": {
     "duration": 0.264509,
     "end_time": "2023-12-11T12:19:27.467060",
     "exception": false,
     "start_time": "2023-12-11T12:19:27.202551",
     "status": "completed"
    },
    "tags": []
   },
   "outputs": [
    {
     "data": {
      "text/html": [
       "<style>#sk-container-id-1 {color: black;background-color: white;}#sk-container-id-1 pre{padding: 0;}#sk-container-id-1 div.sk-toggleable {background-color: white;}#sk-container-id-1 label.sk-toggleable__label {cursor: pointer;display: block;width: 100%;margin-bottom: 0;padding: 0.3em;box-sizing: border-box;text-align: center;}#sk-container-id-1 label.sk-toggleable__label-arrow:before {content: \"▸\";float: left;margin-right: 0.25em;color: #696969;}#sk-container-id-1 label.sk-toggleable__label-arrow:hover:before {color: black;}#sk-container-id-1 div.sk-estimator:hover label.sk-toggleable__label-arrow:before {color: black;}#sk-container-id-1 div.sk-toggleable__content {max-height: 0;max-width: 0;overflow: hidden;text-align: left;background-color: #f0f8ff;}#sk-container-id-1 div.sk-toggleable__content pre {margin: 0.2em;color: black;border-radius: 0.25em;background-color: #f0f8ff;}#sk-container-id-1 input.sk-toggleable__control:checked~div.sk-toggleable__content {max-height: 200px;max-width: 100%;overflow: auto;}#sk-container-id-1 input.sk-toggleable__control:checked~label.sk-toggleable__label-arrow:before {content: \"▾\";}#sk-container-id-1 div.sk-estimator input.sk-toggleable__control:checked~label.sk-toggleable__label {background-color: #d4ebff;}#sk-container-id-1 div.sk-label input.sk-toggleable__control:checked~label.sk-toggleable__label {background-color: #d4ebff;}#sk-container-id-1 input.sk-hidden--visually {border: 0;clip: rect(1px 1px 1px 1px);clip: rect(1px, 1px, 1px, 1px);height: 1px;margin: -1px;overflow: hidden;padding: 0;position: absolute;width: 1px;}#sk-container-id-1 div.sk-estimator {font-family: monospace;background-color: #f0f8ff;border: 1px dotted black;border-radius: 0.25em;box-sizing: border-box;margin-bottom: 0.5em;}#sk-container-id-1 div.sk-estimator:hover {background-color: #d4ebff;}#sk-container-id-1 div.sk-parallel-item::after {content: \"\";width: 100%;border-bottom: 1px solid gray;flex-grow: 1;}#sk-container-id-1 div.sk-label:hover label.sk-toggleable__label {background-color: #d4ebff;}#sk-container-id-1 div.sk-serial::before {content: \"\";position: absolute;border-left: 1px solid gray;box-sizing: border-box;top: 0;bottom: 0;left: 50%;z-index: 0;}#sk-container-id-1 div.sk-serial {display: flex;flex-direction: column;align-items: center;background-color: white;padding-right: 0.2em;padding-left: 0.2em;position: relative;}#sk-container-id-1 div.sk-item {position: relative;z-index: 1;}#sk-container-id-1 div.sk-parallel {display: flex;align-items: stretch;justify-content: center;background-color: white;position: relative;}#sk-container-id-1 div.sk-item::before, #sk-container-id-1 div.sk-parallel-item::before {content: \"\";position: absolute;border-left: 1px solid gray;box-sizing: border-box;top: 0;bottom: 0;left: 50%;z-index: -1;}#sk-container-id-1 div.sk-parallel-item {display: flex;flex-direction: column;z-index: 1;position: relative;background-color: white;}#sk-container-id-1 div.sk-parallel-item:first-child::after {align-self: flex-end;width: 50%;}#sk-container-id-1 div.sk-parallel-item:last-child::after {align-self: flex-start;width: 50%;}#sk-container-id-1 div.sk-parallel-item:only-child::after {width: 0;}#sk-container-id-1 div.sk-dashed-wrapped {border: 1px dashed gray;margin: 0 0.4em 0.5em 0.4em;box-sizing: border-box;padding-bottom: 0.4em;background-color: white;}#sk-container-id-1 div.sk-label label {font-family: monospace;font-weight: bold;display: inline-block;line-height: 1.2em;}#sk-container-id-1 div.sk-label-container {text-align: center;}#sk-container-id-1 div.sk-container {/* jupyter's `normalize.less` sets `[hidden] { display: none; }` but bootstrap.min.css set `[hidden] { display: none !important; }` so we also need the `!important` here to be able to override the default hidden behavior on the sphinx rendered scikit-learn.org. See: https://github.com/scikit-learn/scikit-learn/issues/21755 */display: inline-block !important;position: relative;}#sk-container-id-1 div.sk-text-repr-fallback {display: none;}</style><div id=\"sk-container-id-1\" class=\"sk-top-container\"><div class=\"sk-text-repr-fallback\"><pre>RandomForestRegressor(n_estimators=42, random_state=21)</pre><b>In a Jupyter environment, please rerun this cell to show the HTML representation or trust the notebook. <br />On GitHub, the HTML representation is unable to render, please try loading this page with nbviewer.org.</b></div><div class=\"sk-container\" hidden><div class=\"sk-item\"><div class=\"sk-estimator sk-toggleable\"><input class=\"sk-toggleable__control sk-hidden--visually\" id=\"sk-estimator-id-1\" type=\"checkbox\" checked><label for=\"sk-estimator-id-1\" class=\"sk-toggleable__label sk-toggleable__label-arrow\">RandomForestRegressor</label><div class=\"sk-toggleable__content\"><pre>RandomForestRegressor(n_estimators=42, random_state=21)</pre></div></div></div></div></div>"
      ],
      "text/plain": [
       "RandomForestRegressor(n_estimators=42, random_state=21)"
      ]
     },
     "execution_count": 10,
     "metadata": {},
     "output_type": "execute_result"
    }
   ],
   "source": [
    "rf = RandomForestRegressor(n_estimators = 42, random_state = 21)\n",
    "rf.fit(X_train_full, y_train)"
   ]
  },
  {
   "cell_type": "code",
   "execution_count": 11,
   "id": "e841d96e",
   "metadata": {
    "execution": {
     "iopub.execute_input": "2023-12-11T12:19:27.483617Z",
     "iopub.status.busy": "2023-12-11T12:19:27.483155Z",
     "iopub.status.idle": "2023-12-11T12:19:27.502433Z",
     "shell.execute_reply": "2023-12-11T12:19:27.500737Z"
    },
    "papermill": {
     "duration": 0.030743,
     "end_time": "2023-12-11T12:19:27.505146",
     "exception": false,
     "start_time": "2023-12-11T12:19:27.474403",
     "status": "completed"
    },
    "tags": []
   },
   "outputs": [
    {
     "name": "stdout",
     "output_type": "stream",
     "text": [
      "[0.00000000e+00 0.00000000e+00 9.52380952e-04 0.00000000e+00\n",
      " 0.00000000e+00 0.00000000e+00 0.00000000e+00 2.11190476e-01\n",
      " 2.95238095e-02 4.76190476e-04 1.07142857e-02 3.57142857e-03\n",
      " 0.00000000e+00 0.00000000e+00 0.00000000e+00 0.00000000e+00\n",
      " 1.95238095e-02 0.00000000e+00 0.00000000e+00 4.76190476e-04\n",
      " 0.00000000e+00 1.90476190e-03 0.00000000e+00 2.38095238e-04\n",
      " 0.00000000e+00 2.38095238e-04 0.00000000e+00 0.00000000e+00\n",
      " 0.00000000e+00 4.00000000e-02 1.00000000e-02 7.04761905e-02\n",
      " 0.00000000e+00 1.34285714e-01 0.00000000e+00 0.00000000e+00\n",
      " 7.14285714e-04 1.57619048e-01 4.76190476e-04 6.19047619e-03\n",
      " 0.00000000e+00 1.42857143e-03 9.52380952e-04 0.00000000e+00\n",
      " 0.00000000e+00 1.66666667e-03 0.00000000e+00 9.28571429e-03\n",
      " 0.00000000e+00 0.00000000e+00 0.00000000e+00 1.20166667e+00\n",
      " 4.84285714e-01 0.00000000e+00 0.00000000e+00 1.72380952e-01\n",
      " 9.16666667e-02 2.00000000e-02 9.45238095e-02 0.00000000e+00\n",
      " 0.00000000e+00 0.00000000e+00 0.00000000e+00 4.76190476e-03\n",
      " 0.00000000e+00 0.00000000e+00 5.00000000e-03 6.50000000e-02\n",
      " 0.00000000e+00 9.52380952e-04 1.59523810e-02 1.90476190e-03\n",
      " 0.00000000e+00 8.16666667e-02 7.21428571e-02 0.00000000e+00\n",
      " 0.00000000e+00 0.00000000e+00 0.00000000e+00 0.00000000e+00\n",
      " 2.38095238e-04 1.42857143e-03 7.61904762e-03 0.00000000e+00\n",
      " 7.14285714e-04 0.00000000e+00 1.64285714e-02 0.00000000e+00\n",
      " 3.47619048e-02 0.00000000e+00 1.11904762e-02 1.73809524e-02\n",
      " 0.00000000e+00 0.00000000e+00 0.00000000e+00 0.00000000e+00\n",
      " 0.00000000e+00 0.00000000e+00 3.83333333e-02 0.00000000e+00\n",
      " 3.62619048e-01 0.00000000e+00 0.00000000e+00 0.00000000e+00\n",
      " 0.00000000e+00 0.00000000e+00 0.00000000e+00 4.28571429e-03\n",
      " 1.25238095e-01 0.00000000e+00 0.00000000e+00 0.00000000e+00\n",
      " 0.00000000e+00 0.00000000e+00 0.00000000e+00 0.00000000e+00\n",
      " 0.00000000e+00 9.52380952e-04 1.24761905e-01 6.42857143e-02\n",
      " 3.80952381e-03 0.00000000e+00 0.00000000e+00 0.00000000e+00\n",
      " 0.00000000e+00 0.00000000e+00 0.00000000e+00 5.23809524e-03\n",
      " 0.00000000e+00 2.16666667e-02 2.38095238e-04 0.00000000e+00\n",
      " 0.00000000e+00 5.18809524e-01 3.83333333e-02 0.00000000e+00\n",
      " 0.00000000e+00 0.00000000e+00 0.00000000e+00 0.00000000e+00\n",
      " 7.64523810e-01 4.76190476e-04 0.00000000e+00 0.00000000e+00\n",
      " 0.00000000e+00 9.28571429e-03 5.04761905e-02 0.00000000e+00\n",
      " 2.85714286e-03 0.00000000e+00 0.00000000e+00 0.00000000e+00\n",
      " 5.35714286e-02 7.40476190e-02 7.14285714e-04 2.61904762e-03\n",
      " 0.00000000e+00 0.00000000e+00 0.00000000e+00 0.00000000e+00\n",
      " 1.71190476e-01 1.42857143e-03 1.30000000e-01 2.21428571e-02\n",
      " 0.00000000e+00 0.00000000e+00 7.14285714e-04 0.00000000e+00\n",
      " 0.00000000e+00 0.00000000e+00 0.00000000e+00 3.02380952e-02\n",
      " 0.00000000e+00 0.00000000e+00 6.21428571e-02 4.76190476e-04\n",
      " 2.19047619e-02 1.05357143e+00 2.22142857e-01 7.66666667e-02\n",
      " 0.00000000e+00 0.00000000e+00 4.76190476e-04 0.00000000e+00\n",
      " 5.28571429e-02 0.00000000e+00 2.83333333e-02 0.00000000e+00\n",
      " 0.00000000e+00 0.00000000e+00 0.00000000e+00 1.19047619e-03\n",
      " 0.00000000e+00 0.00000000e+00 9.52380952e-04 3.57142857e-03\n",
      " 0.00000000e+00 0.00000000e+00 9.50000000e-02 1.88095238e-02\n",
      " 1.55000000e-01]\n",
      "Mse 0.09050511670671588\n"
     ]
    }
   ],
   "source": [
    "pred = rf.predict(X_valid_full)\n",
    "print(pred)\n",
    "mse = mean_squared_error(y_valid, pred)\n",
    "print('Mse', mse)"
   ]
  },
  {
   "cell_type": "code",
   "execution_count": 12,
   "id": "b923283a",
   "metadata": {
    "execution": {
     "iopub.execute_input": "2023-12-11T12:19:27.521557Z",
     "iopub.status.busy": "2023-12-11T12:19:27.521086Z",
     "iopub.status.idle": "2023-12-11T12:19:27.528478Z",
     "shell.execute_reply": "2023-12-11T12:19:27.527323Z"
    },
    "papermill": {
     "duration": 0.018855,
     "end_time": "2023-12-11T12:19:27.531124",
     "exception": false,
     "start_time": "2023-12-11T12:19:27.512269",
     "status": "completed"
    },
    "tags": []
   },
   "outputs": [],
   "source": [
    "col = df.columns\n",
    "test_df = test.drop(columns = set(test.columns) - set(col), axis = 1)"
   ]
  },
  {
   "cell_type": "code",
   "execution_count": 13,
   "id": "22080a64",
   "metadata": {
    "execution": {
     "iopub.execute_input": "2023-12-11T12:19:27.547255Z",
     "iopub.status.busy": "2023-12-11T12:19:27.546784Z",
     "iopub.status.idle": "2023-12-11T12:19:27.558574Z",
     "shell.execute_reply": "2023-12-11T12:19:27.557447Z"
    },
    "papermill": {
     "duration": 0.022648,
     "end_time": "2023-12-11T12:19:27.560871",
     "exception": false,
     "start_time": "2023-12-11T12:19:27.538223",
     "status": "completed"
    },
    "tags": []
   },
   "outputs": [],
   "source": [
    "prediction = rf.predict(test_df)"
   ]
  },
  {
   "cell_type": "code",
   "execution_count": 14,
   "id": "17f9a9ae",
   "metadata": {
    "execution": {
     "iopub.execute_input": "2023-12-11T12:19:27.576409Z",
     "iopub.status.busy": "2023-12-11T12:19:27.575998Z",
     "iopub.status.idle": "2023-12-11T12:19:27.582900Z",
     "shell.execute_reply": "2023-12-11T12:19:27.581292Z"
    },
    "papermill": {
     "duration": 0.017612,
     "end_time": "2023-12-11T12:19:27.585238",
     "exception": false,
     "start_time": "2023-12-11T12:19:27.567626",
     "status": "completed"
    },
    "tags": []
   },
   "outputs": [
    {
     "name": "stdout",
     "output_type": "stream",
     "text": [
      "[0.         0.00047619 0.00047619 0.16309524 0.         0.\n",
      " 0.00047619 0.00047619 0.         0.04047619 0.         0.00190476\n",
      " 0.         0.         0.         0.         0.        ]\n"
     ]
    }
   ],
   "source": [
    "print(prediction)"
   ]
  },
  {
   "cell_type": "code",
   "execution_count": 15,
   "id": "ad6edaa4",
   "metadata": {
    "execution": {
     "iopub.execute_input": "2023-12-11T12:19:27.601772Z",
     "iopub.status.busy": "2023-12-11T12:19:27.601335Z",
     "iopub.status.idle": "2023-12-11T12:19:27.605805Z",
     "shell.execute_reply": "2023-12-11T12:19:27.604969Z"
    },
    "papermill": {
     "duration": 0.015595,
     "end_time": "2023-12-11T12:19:27.607877",
     "exception": false,
     "start_time": "2023-12-11T12:19:27.592282",
     "status": "completed"
    },
    "tags": []
   },
   "outputs": [],
   "source": [
    "from sklearn.tree import DecisionTreeRegressor\n",
    "from sklearn.linear_model import LinearRegression"
   ]
  },
  {
   "cell_type": "code",
   "execution_count": 16,
   "id": "548e2e8a",
   "metadata": {
    "execution": {
     "iopub.execute_input": "2023-12-11T12:19:27.623421Z",
     "iopub.status.busy": "2023-12-11T12:19:27.622992Z",
     "iopub.status.idle": "2023-12-11T12:19:27.632204Z",
     "shell.execute_reply": "2023-12-11T12:19:27.631194Z"
    },
    "papermill": {
     "duration": 0.020001,
     "end_time": "2023-12-11T12:19:27.634784",
     "exception": false,
     "start_time": "2023-12-11T12:19:27.614783",
     "status": "completed"
    },
    "tags": []
   },
   "outputs": [],
   "source": [
    "ans_df = pd.DataFrame({\n",
    "    'Date' : test['Date'],\n",
    "    'Predictions' : prediction\n",
    "})\n",
    "ans_df.to_csv('submission.csv', index = False)"
   ]
  },
  {
   "cell_type": "code",
   "execution_count": 17,
   "id": "ea3615c3",
   "metadata": {
    "execution": {
     "iopub.execute_input": "2023-12-11T12:19:27.651688Z",
     "iopub.status.busy": "2023-12-11T12:19:27.650604Z",
     "iopub.status.idle": "2023-12-11T12:19:27.661537Z",
     "shell.execute_reply": "2023-12-11T12:19:27.660116Z"
    },
    "papermill": {
     "duration": 0.021866,
     "end_time": "2023-12-11T12:19:27.664032",
     "exception": false,
     "start_time": "2023-12-11T12:19:27.642166",
     "status": "completed"
    },
    "tags": []
   },
   "outputs": [
    {
     "name": "stdout",
     "output_type": "stream",
     "text": [
      "          Date  Predictions\n",
      "0   2017-07-12     0.000000\n",
      "1   2017-07-13     0.000476\n",
      "2   2017-07-14     0.000476\n",
      "3   2017-07-15     0.163095\n",
      "4   2017-07-16     0.000000\n",
      "5   2017-07-18     0.000000\n",
      "6   2017-07-19     0.000476\n",
      "7   2017-07-20     0.000476\n",
      "8   2017-07-22     0.000000\n",
      "9   2017-07-23     0.040476\n",
      "10  2017-07-24     0.000000\n",
      "11  2017-07-25     0.001905\n",
      "12  2017-07-27     0.000000\n",
      "13  2017-07-28     0.000000\n",
      "14  2017-07-29     0.000000\n",
      "15  2017-07-30     0.000000\n",
      "16  2017-07-31     0.000000\n"
     ]
    }
   ],
   "source": [
    "print(ans_df)"
   ]
  }
 ],
 "metadata": {
  "kaggle": {
   "accelerator": "none",
   "dataSources": [
    {
     "databundleVersionId": 7258022,
     "sourceId": 65652,
     "sourceType": "competition"
    }
   ],
   "dockerImageVersionId": 30615,
   "isGpuEnabled": false,
   "isInternetEnabled": true,
   "language": "python",
   "sourceType": "notebook"
  },
  "kernelspec": {
   "display_name": "Python 3",
   "language": "python",
   "name": "python3"
  },
  "language_info": {
   "codemirror_mode": {
    "name": "ipython",
    "version": 3
   },
   "file_extension": ".py",
   "mimetype": "text/x-python",
   "name": "python",
   "nbconvert_exporter": "python",
   "pygments_lexer": "ipython3",
   "version": "3.10.12"
  },
  "papermill": {
   "default_parameters": {},
   "duration": 7.217048,
   "end_time": "2023-12-11T12:19:28.292671",
   "environment_variables": {},
   "exception": null,
   "input_path": "__notebook__.ipynb",
   "output_path": "__notebook__.ipynb",
   "parameters": {},
   "start_time": "2023-12-11T12:19:21.075623",
   "version": "2.4.0"
  }
 },
 "nbformat": 4,
 "nbformat_minor": 5
}
